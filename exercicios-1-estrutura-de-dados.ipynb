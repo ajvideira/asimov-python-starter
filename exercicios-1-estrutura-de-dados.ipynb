{
 "cells": [
  {
   "cell_type": "markdown",
   "metadata": {},
   "source": [
    "<img src=\"https://asimov.academy/wp-content/uploads/2023/05/Logo-1-1024x195.png\" width=\"200\"/>\n",
    "_____________________________________________\n",
    "\n",
    "## Exercícios #1 - Estruturas de dados\n"
   ]
  },
  {
   "cell_type": "markdown",
   "metadata": {},
   "source": [
    "### Exercício 1\n",
    "Utilizando o built-in method input(), crie um programa que receba a altura e o peso de uma pessoa e imprima na tela o IMC da mesma."
   ]
  },
  {
   "cell_type": "code",
   "metadata": {
    "ExecuteTime": {
     "end_time": "2025-10-23T19:33:58.555363Z",
     "start_time": "2025-10-23T19:33:44.784958Z"
    }
   },
   "source": [
    "altura = float(input('Informe sua altura'))\n",
    "peso = float(input('Informe seu peso'))\n",
    "\n",
    "imc = peso / (altura ** 2)\n",
    "\n",
    "print(f'IMC: {imc:.2f}')"
   ],
   "outputs": [
    {
     "name": "stdout",
     "output_type": "stream",
     "text": [
      "Informe sua altura\n",
      "Informe seu peso\n",
      "IMC: 25.22\n"
     ]
    }
   ],
   "execution_count": 4
  },
  {
   "cell_type": "markdown",
   "metadata": {},
   "source": [
    "### Exercício 2 \n",
    "Escreva um programa que pergunte o nome completo do usuário e cumprimente o mesmo pelo primeiro nome."
   ]
  },
  {
   "cell_type": "code",
   "metadata": {
    "ExecuteTime": {
     "end_time": "2025-10-23T20:35:35.988984Z",
     "start_time": "2025-10-23T20:35:31.177993Z"
    }
   },
   "source": [
    "nome = input('Informe seu nome completo')\n",
    "nome_separado = nome.split()\n",
    "print(f'Olá, {nome_separado[0]}!')"
   ],
   "outputs": [
    {
     "name": "stdout",
     "output_type": "stream",
     "text": [
      "Olá,  Jonathan!\n"
     ]
    }
   ],
   "execution_count": 14
  },
  {
   "cell_type": "markdown",
   "metadata": {},
   "source": [
    "### Exercício 3\n",
    "Desenho um código que extraia o domínio de um e-mail informado."
   ]
  },
  {
   "cell_type": "code",
   "metadata": {
    "ExecuteTime": {
     "end_time": "2025-10-23T20:12:16.587048Z",
     "start_time": "2025-10-23T20:12:07.494280Z"
    }
   },
   "source": [
    "email = input('Informe o e-mail')\n",
    "email_separado = email.split('@')\n",
    "print(f'Domínio: {email_separado[-1]}')"
   ],
   "outputs": [
    {
     "name": "stdout",
     "output_type": "stream",
     "text": [
      "informe o e-mail\n",
      "Domínio: portoalegre.rs.gov.br\n",
      "\n"
     ]
    }
   ],
   "execution_count": 7
  },
  {
   "cell_type": "markdown",
   "metadata": {},
   "source": [
    "### Exercício 4 \n",
    "Faça um programa para uma loja de tintas. A pessoa informa a área em m2 que deseja pintar, e o script calculará a quantidade de latas de tinta que a pessoa deve comprar e o valor. Considere que cada litro de tinta pinta 3m2, que cada lata contém 18L e que custa R$ 80."
   ]
  },
  {
   "cell_type": "code",
   "metadata": {
    "ExecuteTime": {
     "end_time": "2025-10-23T20:26:24.113917Z",
     "start_time": "2025-10-23T20:26:20.430961Z"
    }
   },
   "source": [
    "rendimento_tinta = 3.0 #litro/metros quadrados\n",
    "volume_lata = 18.0 #litros\n",
    "custo_lata = 80.0\n",
    "\n",
    "area = float(input('Informe a área a ser pintada (em m²'))\n",
    "litros_necessarios = area / rendimento_tinta\n",
    "latas_necessarias = litros_necessarios / volume_lata\n",
    "if (latas_necessarias % 1) == 0:\n",
    "    latas_necessarias = int(latas_necessarias)\n",
    "else:\n",
    "    latas_necessarias = int(latas_necessarias) + 1\n",
    "custo_total = latas_necessarias * custo_lata\n",
    "\n",
    "print(f'Latas necessárias: {latas_necessarias} | Custo total: R$ {custo_total:.2f}')\n"
   ],
   "outputs": [
    {
     "name": "stdout",
     "output_type": "stream",
     "text": [
      "Latas necessárias: 11 | Custo total: R$ 880.00\n"
     ]
    }
   ],
   "execution_count": 11
  },
  {
   "cell_type": "markdown",
   "metadata": {},
   "source": [
    "### Exercício 5\n",
    "Faça um Programa que pergunte quanto você ganha por hora e o número de horas trabalhadas no mês. Calcule e mostre o total do seu salário no referido mês, sabendo-se que são descontados 11% para o Imposto de Renda, 8% para o INSS e 5% para o sindicato, faça um programa que nos dê:\n",
    "1. Salário bruto.\n",
    "2. Quanto pagou ao INSS.\n",
    "3. Quanto pagou ao sindicato.\n",
    "4. O salário líquido."
   ]
  },
  {
   "cell_type": "code",
   "metadata": {
    "ExecuteTime": {
     "end_time": "2025-10-23T20:33:16.993369Z",
     "start_time": "2025-10-23T20:33:07.123836Z"
    }
   },
   "source": [
    "aliquota_irpf = 0.11\n",
    "aliquota_inss = 0.08\n",
    "aliquota_sindicato = 0.05\n",
    "\n",
    "remuneracao_hora = float(input('Informe quanto você ganha por hora'))\n",
    "horas_trabalhadas = float(input('Informe a quantidade de horas trabalhadas'))\n",
    "\n",
    "remuneracao_bruta = remuneracao_hora * horas_trabalhadas\n",
    "\n",
    "desconto_irpf = remuneracao_bruta * aliquota_irpf\n",
    "desconto_inss = remuneracao_bruta * aliquota_inss\n",
    "desconto_sindicato = remuneracao_bruta * aliquota_sindicato\n",
    "\n",
    "remuneracao_liquida = remuneracao_bruta - desconto_irpf - desconto_inss - desconto_sindicato\n",
    "\n",
    "print(f'Salário bruto: R$ {remuneracao_bruta:.2f}')\n",
    "print(f'Desconto IRPF: R$ {desconto_irpf:.2f}')\n",
    "print(f'Desconto INSS: R$ {desconto_inss:.2f}')\n",
    "print(f'Desconto Sindicato: R$ {desconto_sindicato:.2f}')\n",
    "print(f'Salário líquido: R$ {remuneracao_liquida:.2f}')"
   ],
   "outputs": [
    {
     "name": "stdout",
     "output_type": "stream",
     "text": [
      "Salário bruto: R$ 1000.00\n",
      "Desconto IRPF: R$ 110.00\n",
      "Desconto INSS: R$ 80.00\n",
      "Desconto Sindicato: R$ 50.00\n",
      "Salário líquido: R$ 760.00\n"
     ]
    }
   ],
   "execution_count": 13
  },
  {
   "metadata": {},
   "cell_type": "code",
   "outputs": [],
   "execution_count": null,
   "source": ""
  }
 ],
 "metadata": {
  "kernelspec": {
   "display_name": "Python 3",
   "language": "python",
   "name": "python3"
  },
  "language_info": {
   "codemirror_mode": {
    "name": "ipython",
    "version": 3
   },
   "file_extension": ".py",
   "mimetype": "text/x-python",
   "name": "python",
   "nbconvert_exporter": "python",
   "pygments_lexer": "ipython3",
   "version": "3.8.8"
  }
 },
 "nbformat": 4,
 "nbformat_minor": 4
}
