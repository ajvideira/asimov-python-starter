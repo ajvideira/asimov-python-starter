{
 "cells": [
  {
   "cell_type": "markdown",
   "metadata": {},
   "source": [
    "<img src=\"https://asimov.academy/wp-content/uploads/2021/01/logo.png\" width=\"200\"/>\n",
    "_____________________________________________\n",
    "\n",
    "## Exercícios #2 - Operadores de comparação e laços\n"
   ]
  },
  {
   "cell_type": "markdown",
   "metadata": {},
   "source": [
    "### Exercício 1\n",
    "Faça um programa para a leitura de duas notas parciais de um aluno. O programa deve calcular a média alcançada por aluno e apresentar:\n",
    "- A mensagem \"Aprovado\", se a média alcançada for maior ou igual a 7;\n",
    "- A mensagem \"Reprovado\", se a média for menor do que 7;\n",
    "- A mensagem \"Aprovado com Distinção\", se a média for igual a 10."
   ]
  },
  {
   "cell_type": "code",
   "metadata": {},
   "source": [
    "nota1 = float(input('Informe a primeira nota'))\n",
    "nota2 = float(input('Informe a segunda nota'))\n",
    "\n",
    "media = (nota1 + nota2)/2\n",
    "\n",
    "if media == 10:\n",
    "    print('Aprovado com Distinção')\n",
    "elif media >= 7:\n",
    "    print('Aprovado')\n",
    "else:\n",
    "    print('Reprovado')"
   ],
   "outputs": [],
   "execution_count": null
  },
  {
   "cell_type": "markdown",
   "metadata": {},
   "source": [
    "### Exercício 2\n",
    "Escreva um script que leia três números e mostre o maior e o menor deles."
   ]
  },
  {
   "cell_type": "code",
   "metadata": {},
   "source": [
    "maior_valor = None\n",
    "\n",
    "for i in range(3):\n",
    "    valor = int(input('Informe um valor'))\n",
    "    if maior_valor is None or valor > maior_valor:\n",
    "        maior_valor = valor\n",
    "print('Maior valor: {}'.format(maior_valor))"
   ],
   "outputs": [],
   "execution_count": null
  },
  {
   "cell_type": "markdown",
   "metadata": {},
   "source": [
    "### Exercício 3 \n",
    "Nome na vertical em escada. \n",
    "\n",
    "F<br>\n",
    "FU<br>\n",
    "FUL<br>\n",
    "FULA<br>\n",
    "FULAN<br>\n",
    "FULANO<br>"
   ]
  },
  {
   "cell_type": "code",
   "metadata": {},
   "source": [
    "nome = input(\"Informe o nome\")\n",
    "\n",
    "for i in range(len(nome)):\n",
    "    print(nome[:i+1])"
   ],
   "outputs": [],
   "execution_count": null
  },
  {
   "cell_type": "markdown",
   "metadata": {},
   "source": [
    "### Exercício 4\n",
    "A série de Fibonacci é formada pela seqüência 1,1,2,3,5,8,13,21,34,55,... (o próximo termo, a partir do terceiro, é sempre gerado a partir do somatório dos últimos dois). Faça um programa capaz de gerar a série até o n−ésimo termo (onde o valor n deve ser inserido pelo usuário)."
   ]
  },
  {
   "cell_type": "code",
   "metadata": {},
   "source": [
    "anterior = 0\n",
    "atual = 1\n",
    "n = int(input('Informe a quantidade de elementos'))\n",
    "\n",
    "for i in range(n):\n",
    "    print(atual)\n",
    "    atual, anterior = atual + anterior, atual\n",
    "\n"
   ],
   "outputs": [],
   "execution_count": null
  },
  {
   "cell_type": "markdown",
   "metadata": {},
   "source": [
    "### Exercício 5\n",
    "Faça um programa que leia e valide as seguintes informações:\n",
    "- Nome: maior que 3 caracteres;\n",
    "- Idade: entre 0 e 150;\n",
    "- Salário: maior que zero;\n",
    "- Sexo: 'f' ou 'm';\n",
    "- Estado Civil: 's', 'c', 'v', 'd';"
   ]
  },
  {
   "cell_type": "code",
   "metadata": {},
   "source": [
    "nome = input('Informe o nome')\n",
    "idade = int(input('Informe a idade'))\n",
    "salario = float(input('Informe o salário'))\n",
    "sexo = input('Informe o sexo')\n",
    "estado_civil = input('Estado Civil')\n",
    "\n",
    "if len(nome) <= 3:\n",
    "    print('Nome deve ter mais de 3 caracteres')\n",
    "\n",
    "if idade < 0 or idade > 150:\n",
    "    print('Idade deve ter entre 0 e 150')\n",
    "\n",
    "if salario <= 0:\n",
    "    print('Salário deve ser maior que zero')\n",
    "\n",
    "if sexo != 'f' and sexo != 'm':\n",
    "    print('Sexo deve ser \\'f\\' ou \\'m\\'')\n",
    "\n",
    "if estado_civil != 's' and estado_civil != 'c' and estado_civil != 'v' and estado_civil != 'd':\n",
    "    print('Estado Civil deve ser \\'s\\' ou \\'c\\' ou \\'v\\' ou \\'d\\'')"
   ],
   "outputs": [],
   "execution_count": null
  },
  {
   "cell_type": "markdown",
   "metadata": {},
   "source": [
    "### Exercício 6\n",
    "Faça um programa que peça um número inteiro e determine se ele é ou não um número primo. Um número primo é aquele que é divisível somente por ele mesmo e por 1. \n",
    "Dica: Utilize o operador aritmético `%`, que retorna o resto da divisão de dois números."
   ]
  },
  {
   "cell_type": "code",
   "metadata": {},
   "source": [
    "def is_prime(num):\n",
    "    if num <= 1:\n",
    "        return False\n",
    "    elif num == 2:\n",
    "        return True\n",
    "    elif num % 2 == 0:\n",
    "        return False\n",
    "    else:\n",
    "        for i in range(3, int(num**0.5)+1,2):\n",
    "            if num % i == 0:\n",
    "                return False\n",
    "        return True\n",
    "is_prime(int(input('Informe um número')))"
   ],
   "outputs": [],
   "execution_count": null
  },
  {
   "metadata": {},
   "cell_type": "code",
   "source": "",
   "outputs": [],
   "execution_count": null
  }
 ],
 "metadata": {
  "kernelspec": {
   "display_name": "Python 3 (ipykernel)",
   "language": "python",
   "name": "python3"
  },
  "language_info": {
   "codemirror_mode": {
    "name": "ipython",
    "version": 3
   },
   "file_extension": ".py",
   "mimetype": "text/x-python",
   "name": "python",
   "nbconvert_exporter": "python",
   "pygments_lexer": "ipython3",
   "version": "3.9.12"
  }
 },
 "nbformat": 4,
 "nbformat_minor": 4
}
